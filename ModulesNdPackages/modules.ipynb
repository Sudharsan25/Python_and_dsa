{
 "cells": [
  {
   "cell_type": "code",
   "execution_count": 1,
   "id": "5f0977f1",
   "metadata": {},
   "outputs": [],
   "source": [
    "from package.maths import addition"
   ]
  },
  {
   "cell_type": "code",
   "execution_count": 2,
   "id": "a36bed4e",
   "metadata": {},
   "outputs": [
    {
     "data": {
      "text/plain": [
       "3"
      ]
     },
     "execution_count": 2,
     "metadata": {},
     "output_type": "execute_result"
    }
   ],
   "source": [
    "addition(1, 2)"
   ]
  },
  {
   "cell_type": "code",
   "execution_count": 5,
   "id": "9ed8313c",
   "metadata": {},
   "outputs": [
    {
     "name": "stdout",
     "output_type": "stream",
     "text": [
      "Performing operation in utils.py\n"
     ]
    },
    {
     "data": {
      "text/plain": [
       "'Operation completed'"
      ]
     },
     "execution_count": 5,
     "metadata": {},
     "output_type": "execute_result"
    }
   ],
   "source": [
    "from package.subpackages.utils import perform_operation\n",
    "perform_operation()"
   ]
  },
  {
   "cell_type": "code",
   "execution_count": null,
   "id": "0f72ffd1",
   "metadata": {},
   "outputs": [],
   "source": []
  },
  {
   "cell_type": "markdown",
   "id": "6faaa03c",
   "metadata": {},
   "source": [
    "### Python Library Overview"
   ]
  },
  {
   "cell_type": "code",
   "execution_count": 7,
   "id": "05933ee6",
   "metadata": {},
   "outputs": [
    {
     "name": "stdout",
     "output_type": "stream",
     "text": [
      "array('i', [1, 2, 3, 4, 5])\n"
     ]
    }
   ],
   "source": [
    "# array\n",
    "import array\n",
    "\n",
    "arr = array.array('i', [1, 2, 3, 4, 5])\n",
    "print(arr)  # Output: 1"
   ]
  },
  {
   "cell_type": "code",
   "execution_count": 8,
   "id": "c66bd8e3",
   "metadata": {},
   "outputs": [
    {
     "name": "stdout",
     "output_type": "stream",
     "text": [
      "2\n"
     ]
    }
   ],
   "source": [
    "# random\n",
    "\n",
    "import random\n",
    "\n",
    "random_number = random.randint(1, 10)\n",
    "print(random_number)  # Output: Random number between 1 and 10"
   ]
  },
  {
   "cell_type": "code",
   "execution_count": 9,
   "id": "f920ba9d",
   "metadata": {},
   "outputs": [
    {
     "name": "stdout",
     "output_type": "stream",
     "text": [
      "d:\\Work\\ProjPortfolio\\AI_and_ML\\Python_and_dsa\\ModulesNdPackages\n"
     ]
    }
   ],
   "source": [
    "# os\n",
    "\n",
    "import os\n",
    "\n",
    "current_directory = os.getcwd()\n",
    "print(current_directory)  # Output: Current working directory"
   ]
  },
  {
   "cell_type": "code",
   "execution_count": 12,
   "id": "101df7c6",
   "metadata": {},
   "outputs": [
    {
     "data": {
      "text/plain": [
       "'destination.txt'"
      ]
     },
     "execution_count": 12,
     "metadata": {},
     "output_type": "execute_result"
    }
   ],
   "source": [
    "# shutil\n",
    "\n",
    "'''\n",
    "Shutil is a module in Python that provides a higher-level interface for file operations. It allows you to perform tasks like copying, moving, and deleting files and directories easily. The module is part of the standard library, so you don't need to install anything extra to use it.\n",
    "Shutil is particularly useful for tasks like file management, backup, and cleanup. It provides functions for copying files, moving files, deleting files, and even creating archives (like ZIP files). The module is designed to be easy to use and provides a consistent interface for these operations.\n",
    "'''\n",
    "\n",
    "import shutil\n",
    "shutil.copyfile('source.txt', 'destination.txt')  # Copy a file"
   ]
  },
  {
   "cell_type": "code",
   "execution_count": 14,
   "id": "d345e173",
   "metadata": {},
   "outputs": [
    {
     "name": "stdout",
     "output_type": "stream",
     "text": [
      "{\"name\": \"Alice\", \"age\": 30}\n",
      "{'name': 'Alice', 'age': 30}\n",
      "<class 'str'>\n",
      "<class 'dict'>\n"
     ]
    }
   ],
   "source": [
    "# json\n",
    "\n",
    "import json\n",
    "\n",
    "data = {'name': 'Alice', 'age': 30}\n",
    "json_string = json.dumps(data)\n",
    "print(json_string)  # Output: JSON string representation of the dictionary\n",
    "\n",
    "parsed_data = json.loads(json_string)\n",
    "print(parsed_data)  # Output: {'name': 'Alice', 'age': 30}\n",
    "print(type(json_string))  # Output: <class 'str'>\n",
    "print(type(parsed_data))  # Output: <class 'dict'>"
   ]
  },
  {
   "cell_type": "code",
   "execution_count": 15,
   "id": "67a0bdb7",
   "metadata": {},
   "outputs": [],
   "source": [
    "# csv\n",
    "\n",
    "import csv\n",
    "\n",
    "data = [['Name', 'Age'], ['Alice', 30], ['Bob', 25]]\n",
    "\n",
    "with open('data.csv', 'w', newline='') as file:\n",
    "    writer = csv.writer(file)\n",
    "    writer.writerows(data)"
   ]
  },
  {
   "cell_type": "code",
   "execution_count": 16,
   "id": "6cb9b3b1",
   "metadata": {},
   "outputs": [
    {
     "name": "stdout",
     "output_type": "stream",
     "text": [
      "Current date and time: 2025-05-02 14:45:04.024243\n",
      "Yesterday's date and time: 2025-05-01 14:45:04.024243\n"
     ]
    }
   ],
   "source": [
    "# datetime\n",
    "\n",
    "import datetime\n",
    "from datetime import timedelta, datetime\n",
    "\n",
    "now = datetime.now()\n",
    "yesterday = now - timedelta(days=1)\n",
    "print(\"Current date and time:\", now)\n",
    "print(\"Yesterday's date and time:\", yesterday)"
   ]
  },
  {
   "cell_type": "code",
   "execution_count": null,
   "id": "2ab36b3d",
   "metadata": {},
   "outputs": [
    {
     "name": "stdout",
     "output_type": "stream",
     "text": [
      "['123', '456']\n"
     ]
    }
   ],
   "source": [
    "# re\n",
    "\n",
    "import re\n",
    "\n",
    "pattern = r'\\d+' # Matches one or more digits\n",
    "text = 'There are 123 apples and 456 oranges.'\n",
    "matches = re.findall(pattern, text)\n",
    "print(matches)  # Output: ['123', '456']"
   ]
  }
 ],
 "metadata": {
  "kernelspec": {
   "display_name": "Python 3",
   "language": "python",
   "name": "python3"
  },
  "language_info": {
   "codemirror_mode": {
    "name": "ipython",
    "version": 3
   },
   "file_extension": ".py",
   "mimetype": "text/x-python",
   "name": "python",
   "nbconvert_exporter": "python",
   "pygments_lexer": "ipython3",
   "version": "3.12.9"
  }
 },
 "nbformat": 4,
 "nbformat_minor": 5
}
