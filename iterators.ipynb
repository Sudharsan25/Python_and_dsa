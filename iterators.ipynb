{
 "cells": [
  {
   "cell_type": "markdown",
   "id": "0ea76cf9",
   "metadata": {},
   "source": [
    "# Iterators"
   ]
  },
  {
   "cell_type": "code",
   "execution_count": 11,
   "id": "69a1b68b",
   "metadata": {},
   "outputs": [
    {
     "data": {
      "text/plain": [
       "list"
      ]
     },
     "execution_count": 11,
     "metadata": {},
     "output_type": "execute_result"
    }
   ],
   "source": [
    "# Iterator\n",
    "# Iterators allow efficient looping over a collection of items without needing to create an intermediate collection.\n",
    "# This is useful for large datasets or when you want to process items one at a time.\n",
    "\n",
    "my_list = [1, 2, 3, 4, 5]\n",
    "type(my_list)"
   ]
  },
  {
   "cell_type": "code",
   "execution_count": 12,
   "id": "79acf10b",
   "metadata": {},
   "outputs": [
    {
     "data": {
      "text/plain": [
       "list_iterator"
      ]
     },
     "execution_count": 12,
     "metadata": {},
     "output_type": "execute_result"
    }
   ],
   "source": [
    "# creaet an iterator\n",
    "\n",
    "my_iter = iter(my_list)\n",
    "type(my_iter)"
   ]
  },
  {
   "cell_type": "code",
   "execution_count": 3,
   "id": "64f08831",
   "metadata": {},
   "outputs": [
    {
     "data": {
      "text/plain": [
       "<list_iterator at 0x162ff5f7d90>"
      ]
     },
     "execution_count": 3,
     "metadata": {},
     "output_type": "execute_result"
    }
   ],
   "source": [
    "my_iter # <list_iterator object at 0x7f8c4c2b3d90>"
   ]
  },
  {
   "cell_type": "code",
   "execution_count": 18,
   "id": "7b60f80c",
   "metadata": {},
   "outputs": [
    {
     "name": "stdout",
     "output_type": "stream",
     "text": [
      "No more items in the iterator\n"
     ]
    }
   ],
   "source": [
    "# iterators use lazing loading,\n",
    "# so to get the next item from the iterator, we can use the next() function.\n",
    "try:\n",
    "    print(next(my_iter))\n",
    "except StopIteration:\n",
    "    print(\"No more items in the iterator\")"
   ]
  },
  {
   "cell_type": "markdown",
   "id": "53ecc7f4",
   "metadata": {},
   "source": [
    "# Generators"
   ]
  },
  {
   "cell_type": "code",
   "execution_count": 19,
   "id": "75a1a0a6",
   "metadata": {},
   "outputs": [],
   "source": [
    "# generators are simpler way to create iterators.\n",
    "# A generator is a special type of iterator that is defined using a function with the yield statement.\n",
    "# When the function is called, it returns a generator object that can be iterated over.\n",
    "\n",
    "def square_numbers(n):\n",
    "    for i in range(n):\n",
    "        yield i ** 2 # yield is used to produce a value and pause the function's execution until the next value is requested."
   ]
  },
  {
   "cell_type": "code",
   "execution_count": null,
   "id": "34967ab2",
   "metadata": {},
   "outputs": [
    {
     "data": {
      "text/plain": [
       "<generator object square_numbers at 0x00000162FF5CADC0>"
      ]
     },
     "execution_count": 20,
     "metadata": {},
     "output_type": "execute_result"
    }
   ],
   "source": [
    "square_numbers(3) # a generator object that can be iterated over"
   ]
  },
  {
   "cell_type": "code",
   "execution_count": 22,
   "id": "4f23a763",
   "metadata": {},
   "outputs": [
    {
     "name": "stdout",
     "output_type": "stream",
     "text": [
      "0\n",
      "1\n",
      "4\n"
     ]
    }
   ],
   "source": [
    "for i in square_numbers(3): # iterate over the generator object\n",
    "    print(i) # 0, 1, 4\n",
    "# Generators are memory efficient because they generate values on the fly and do not store them in memory."
   ]
  },
  {
   "cell_type": "code",
   "execution_count": 26,
   "id": "1aed7cef",
   "metadata": {},
   "outputs": [],
   "source": [
    "# practical example of using a generator to read a large file line by line\n",
    "\n",
    "def read_large_file(file_path):\n",
    "    with open(file_path, 'r') as file:\n",
    "        for line in file:\n",
    "            yield line.strip()  # yield each line without storing the entire file in memory"
   ]
  },
  {
   "cell_type": "code",
   "execution_count": 27,
   "id": "1aff542b",
   "metadata": {},
   "outputs": [
    {
     "data": {
      "text/plain": [
       "<generator object read_large_file at 0x00000162FFD4A020>"
      ]
     },
     "execution_count": 27,
     "metadata": {},
     "output_type": "execute_result"
    }
   ],
   "source": [
    "read_large_file('file.txt') # a generator object that can be iterated over"
   ]
  },
  {
   "cell_type": "code",
   "execution_count": 31,
   "id": "0a413287",
   "metadata": {},
   "outputs": [
    {
     "name": "stdout",
     "output_type": "stream",
     "text": [
      "Total length of lines: 56960\n"
     ]
    }
   ],
   "source": [
    "total_length = 0\n",
    "for line in read_large_file('file.txt'): # iterate over the generator object\n",
    "    total_length += len(line) # accumulate the length of each line\n",
    "\n",
    "print(f'Total length of lines: {total_length}') # print the total length of all lines in the file\n",
    "\n",
    "# this is happening without loading the entire file into memory at once.\n",
    "# This is particularly useful for large files or data streams where you want to process each line as it comes in."
   ]
  },
  {
   "cell_type": "markdown",
   "id": "e871c45a",
   "metadata": {},
   "source": [
    "# Decorators"
   ]
  },
  {
   "cell_type": "code",
   "execution_count": 36,
   "id": "a83f7b08",
   "metadata": {},
   "outputs": [
    {
     "name": "stdout",
     "output_type": "stream",
     "text": [
      "Hello, World!\n"
     ]
    }
   ],
   "source": [
    "# function copy \n",
    "# the function copy() is used to create a shallow copy of an object.\n",
    "\n",
    "# A shallow copy means that the new object is a new instance, but the elements inside it are references to the same objects as in the original.\n",
    "\n",
    "def greetings():\n",
    "    print(\"Hello, World!\")\n",
    "    \n",
    "greetings() # Hello, World!"
   ]
  },
  {
   "cell_type": "code",
   "execution_count": 37,
   "id": "b2621197",
   "metadata": {},
   "outputs": [
    {
     "name": "stdout",
     "output_type": "stream",
     "text": [
      "Hello, World!\n"
     ]
    }
   ],
   "source": [
    "greet = greetings # assign the function to a new variable\n",
    "greet() # Hello, World!"
   ]
  },
  {
   "cell_type": "code",
   "execution_count": 38,
   "id": "8a3b49e9",
   "metadata": {},
   "outputs": [
    {
     "name": "stdout",
     "output_type": "stream",
     "text": [
      "Hello, World!\n"
     ]
    }
   ],
   "source": [
    "del greetings # delete the original function reference\n",
    "greet() # Hello, World! # the function is still accessible through the new variable\n",
    "# this is because the function object itself is not deleted, only the reference to it is removed."
   ]
  },
  {
   "cell_type": "code",
   "execution_count": 41,
   "id": "c600feaa",
   "metadata": {},
   "outputs": [],
   "source": [
    "# closures\n",
    "\n",
    "# A closure is a function that captures the local variables from its enclosing scope, even after that scope has finished executing\n",
    "# This allows the function to remember the values of those variables even when it is called outside of their original scope.\n",
    "\n",
    "def counter():\n",
    "    count = 0  # local variable\n",
    "\n",
    "    def increment():\n",
    "        nonlocal count  # use the nonlocal keyword to modify the outer variable\n",
    "        count += 1\n",
    "        return count\n",
    "\n",
    "    return increment  # return the inner function\n",
    "\n",
    "# how is this different from a normal function?\n",
    "# A normal function would not have access to the local variable `count` after the outer function has finished executing.\n",
    "# In this case, the inner function `increment` is a closure that captures the variable `count` from its enclosing scope.\n",
    "# This allows the inner function to modify and remember the value of `count` even after the outer function has returned.\n",
    "# The inner function `increment` can be called multiple times, and it will keep track of the value of `count` across those calls.\n",
    "# This is useful for creating functions that maintain state or for implementing decorators."
   ]
  },
  {
   "cell_type": "code",
   "execution_count": 40,
   "id": "9eadee74",
   "metadata": {},
   "outputs": [
    {
     "name": "stdout",
     "output_type": "stream",
     "text": [
      "1\n"
     ]
    }
   ],
   "source": [
    "counter_function = counter()  # create a closure\n",
    "print(counter_function())  # 1"
   ]
  },
  {
   "cell_type": "code",
   "execution_count": 45,
   "id": "c1aea863",
   "metadata": {},
   "outputs": [],
   "source": [
    "# Decorators\n",
    "# A decorator is a special type of function that takes another function as an argument and extends its behavior without modifying it.\n",
    "\n",
    "def my_decorator(func):\n",
    "    def wrapper():\n",
    "        print(\"Something is happening before the function is called.\")\n",
    "        func()  # call the original function\n",
    "        print(\"Something is happening after the function is called.\")\n",
    "    return wrapper  # return the wrapper function"
   ]
  },
  {
   "cell_type": "code",
   "execution_count": 47,
   "id": "0fce361a",
   "metadata": {},
   "outputs": [],
   "source": [
    "def say_hello():\n",
    "    print(\"Hello!\")"
   ]
  },
  {
   "cell_type": "code",
   "execution_count": 52,
   "id": "a16aefd3",
   "metadata": {},
   "outputs": [
    {
     "name": "stdout",
     "output_type": "stream",
     "text": [
      "Something is happening before the function is called.\n",
      "Hello!\n",
      "Something is happening after the function is called.\n"
     ]
    }
   ],
   "source": [
    "gen = my_decorator(say_hello)  # apply the decorator to the greetings function\n",
    "gen()"
   ]
  },
  {
   "cell_type": "code",
   "execution_count": 54,
   "id": "001f1526",
   "metadata": {},
   "outputs": [],
   "source": [
    "# how to do this with a decorator syntax?\n",
    "# Python provides a convenient syntax for applying decorators using the `@decorator_name` syntax.\n",
    "@my_decorator\n",
    "def say_hello_decorated():\n",
    "    print(\"Hello!\")"
   ]
  },
  {
   "cell_type": "code",
   "execution_count": 56,
   "id": "3e232d9b",
   "metadata": {},
   "outputs": [
    {
     "name": "stdout",
     "output_type": "stream",
     "text": [
      "Something is happening before the function is called.\n",
      "Hello!\n",
      "Something is happening after the function is called.\n"
     ]
    }
   ],
   "source": [
    "say_hello_decorated() # Something is happening before the function is called."
   ]
  },
  {
   "cell_type": "markdown",
   "id": "d65715ea",
   "metadata": {},
   "source": [
    "### Here the decorator is applied to the function `say_hello_decorated` using the `@my_decorator` syntax.\n",
    "### This is equivalent to the previous example where we manually applied the decorator by assigning it to a new variable.\n",
    "### The decorator modifies the behavior of the function by adding functionality before and after the original function call.\n",
    "### This allows you to easily extend the behavior of functions without modifying their original implementation.   "
   ]
  },
  {
   "cell_type": "markdown",
   "id": "a0f99167",
   "metadata": {},
   "source": []
  },
  {
   "cell_type": "code",
   "execution_count": 57,
   "id": "9d75b6f5",
   "metadata": {},
   "outputs": [],
   "source": [
    "# decorators can also take arguments other than the function itself.\n",
    "# This is done by creating a decorator factory that returns a decorator function.\n",
    "\n",
    "def repeat(num_times):\n",
    "    def decorator_repeat(func):\n",
    "        def wrapper(*args, **kwargs):\n",
    "            for _ in range(num_times):\n",
    "                func(*args, **kwargs)  # call the original function multiple times\n",
    "        return wrapper  # return the wrapper function\n",
    "    return decorator_repeat  # return the decorator factory"
   ]
  },
  {
   "cell_type": "code",
   "execution_count": 58,
   "id": "fc29f345",
   "metadata": {},
   "outputs": [],
   "source": [
    "@repeat(3)  # apply the decorator with an argument\n",
    "def greet(name):\n",
    "    print(f\"Hello, {name}!\")"
   ]
  },
  {
   "cell_type": "code",
   "execution_count": 59,
   "id": "48cd903b",
   "metadata": {},
   "outputs": [
    {
     "name": "stdout",
     "output_type": "stream",
     "text": [
      "Hello, Alice!\n",
      "Hello, Alice!\n",
      "Hello, Alice!\n"
     ]
    }
   ],
   "source": [
    "greet(\"Alice\")  # Hello, Alice! (printed 3 times)"
   ]
  },
  {
   "cell_type": "code",
   "execution_count": null,
   "id": "1a8797fc",
   "metadata": {},
   "outputs": [],
   "source": []
  }
 ],
 "metadata": {
  "kernelspec": {
   "display_name": "Python 3",
   "language": "python",
   "name": "python3"
  },
  "language_info": {
   "codemirror_mode": {
    "name": "ipython",
    "version": 3
   },
   "file_extension": ".py",
   "mimetype": "text/x-python",
   "name": "python",
   "nbconvert_exporter": "python",
   "pygments_lexer": "ipython3",
   "version": "3.12.9"
  }
 },
 "nbformat": 4,
 "nbformat_minor": 5
}
