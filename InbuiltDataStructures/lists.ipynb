{
 "cells": [
  {
   "cell_type": "code",
   "execution_count": 1,
   "id": "dc12f380",
   "metadata": {},
   "outputs": [],
   "source": [
    "list = ['1','2','3']"
   ]
  },
  {
   "cell_type": "code",
   "execution_count": 4,
   "id": "ee52c9d2",
   "metadata": {},
   "outputs": [
    {
     "name": "stdout",
     "output_type": "stream",
     "text": [
      "['2']\n",
      "['1', '3']\n"
     ]
    }
   ],
   "source": [
    "# lists or 1d arrays\n",
    "# accessing elements\n",
    "\n",
    "print(list[1:2]) #lst[startIndex:endIndex] #endIndex is not included\n",
    "\n",
    "print(list[::2]) #list[::Step]"
   ]
  },
  {
   "cell_type": "code",
   "execution_count": 5,
   "id": "978fcaff",
   "metadata": {},
   "outputs": [
    {
     "name": "stdout",
     "output_type": "stream",
     "text": [
      "1\n",
      "2\n",
      "3\n"
     ]
    }
   ],
   "source": [
    "# Iterate over lists\n",
    "for i in list:\n",
    "    print(i)"
   ]
  },
  {
   "cell_type": "code",
   "execution_count": 6,
   "id": "e0351c68",
   "metadata": {},
   "outputs": [
    {
     "name": "stdout",
     "output_type": "stream",
     "text": [
      "0 1\n",
      "1 2\n",
      "2 3\n"
     ]
    }
   ],
   "source": [
    "# Iterating over Index\n",
    "for index,element in enumerate(list):\n",
    "    print(index,element)"
   ]
  },
  {
   "cell_type": "code",
   "execution_count": 7,
   "id": "f2d52878",
   "metadata": {},
   "outputs": [
    {
     "data": {
      "text/plain": [
       "[0, 2, 4, 6, 8]"
      ]
     },
     "execution_count": 7,
     "metadata": {},
     "output_type": "execute_result"
    }
   ],
   "source": [
    "# lst comprehension\n",
    "\n",
    "[x for x in range(10) if x%2==0]"
   ]
  },
  {
   "cell_type": "code",
   "execution_count": null,
   "id": "a04a95c6",
   "metadata": {},
   "outputs": [
    {
     "data": {
      "text/plain": [
       "['12', '14', '16', '22', '24', '26', '32', '34', '36']"
      ]
     },
     "execution_count": 13,
     "metadata": {},
     "output_type": "execute_result"
    }
   ],
   "source": [
    "# nested list comprehension\n",
    "list2= ['2','4','6']\n",
    "\n",
    "[i+j for i in list for j in list2]"
   ]
  },
  {
   "cell_type": "code",
   "execution_count": null,
   "id": "77daa90d",
   "metadata": {},
   "outputs": [],
   "source": []
  }
 ],
 "metadata": {
  "kernelspec": {
   "display_name": "Python 3",
   "language": "python",
   "name": "python3"
  },
  "language_info": {
   "codemirror_mode": {
    "name": "ipython",
    "version": 3
   },
   "file_extension": ".py",
   "mimetype": "text/x-python",
   "name": "python",
   "nbconvert_exporter": "python",
   "pygments_lexer": "ipython3",
   "version": "3.12.9"
  }
 },
 "nbformat": 4,
 "nbformat_minor": 5
}
