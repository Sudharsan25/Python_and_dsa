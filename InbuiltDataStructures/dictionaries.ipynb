{
 "cells": [
  {
   "cell_type": "code",
   "execution_count": 17,
   "id": "0aef6a8e",
   "metadata": {},
   "outputs": [],
   "source": [
    "#creating an dict\n",
    "\n",
    "student = {'name':'Susa', 'age':24}"
   ]
  },
  {
   "cell_type": "code",
   "execution_count": null,
   "id": "8fdeb495",
   "metadata": {},
   "outputs": [
    {
     "name": "stdout",
     "output_type": "stream",
     "text": [
      "Susa\n",
      "24\n",
      "None\n",
      "Not avaiable\n"
     ]
    }
   ],
   "source": [
    "# accessing elements in dict\n",
    "\n",
    "# method 1\n",
    "\n",
    "print(student['name'])\n",
    "\n",
    "# method 2\n",
    "\n",
    "print(student.get('age'))\n",
    "print(student.get('grade'))\n",
    "print(student.get('grade',\"Not available\"))"
   ]
  },
  {
   "cell_type": "code",
   "execution_count": null,
   "id": "5ef5ea30",
   "metadata": {},
   "outputs": [
    {
     "name": "stdout",
     "output_type": "stream",
     "text": [
      "{'name': 'Susa', 'age': 25}\n",
      "{'name': 'Susa', 'age': 25, 'last_name': 'Kumar'}\n"
     ]
    }
   ],
   "source": [
    "# Modifying dictionary elements\n",
    "# Dictionaries are mutable, which allows you to add, update and delete elements\n",
    "\n",
    "student['age']=25 # updates value\n",
    "print(student)\n",
    "\n",
    "student['last_name'] = \"Kumar\" # Add a new key: value pair\n",
    "print(student)"
   ]
  },
  {
   "cell_type": "code",
   "execution_count": 4,
   "id": "0481a984",
   "metadata": {},
   "outputs": [
    {
     "name": "stdout",
     "output_type": "stream",
     "text": [
      "{'name': 'Susa', 'age': 25}\n"
     ]
    }
   ],
   "source": [
    "del student['last_name'] # deletes a key: value pair\n",
    "print(student)"
   ]
  },
  {
   "cell_type": "code",
   "execution_count": 5,
   "id": "6edf6b56",
   "metadata": {},
   "outputs": [
    {
     "name": "stdout",
     "output_type": "stream",
     "text": [
      "dict_keys(['name', 'age'])\n",
      "dict_values(['Susa', 25])\n"
     ]
    }
   ],
   "source": [
    "# Dictionary methods\n",
    "\n",
    "keys = student.keys()\n",
    "print(keys)\n",
    "\n",
    "values = student.values()\n",
    "print(values)"
   ]
  },
  {
   "cell_type": "code",
   "execution_count": 6,
   "id": "66483564",
   "metadata": {},
   "outputs": [],
   "source": [
    "items = student.items()"
   ]
  },
  {
   "cell_type": "code",
   "execution_count": 7,
   "id": "3cc53434",
   "metadata": {},
   "outputs": [
    {
     "name": "stdout",
     "output_type": "stream",
     "text": [
      "dict_items([('name', 'Susa'), ('age', 25)])\n"
     ]
    }
   ],
   "source": [
    "print(items)"
   ]
  },
  {
   "cell_type": "code",
   "execution_count": 18,
   "id": "9e7edcf2",
   "metadata": {},
   "outputs": [
    {
     "name": "stdout",
     "output_type": "stream",
     "text": [
      "{'name': 'Susa', 'age': 24}\n",
      "{'name': 'Susa', 'age': 24}\n"
     ]
    }
   ],
   "source": [
    "## shallow copy\n",
    "\n",
    "student_copy = student ## Assigning this way creates a pointer to the same dict. Which means if you update one the other will also get updated\n",
    "print(student)\n",
    "print(student_copy)"
   ]
  },
  {
   "cell_type": "code",
   "execution_count": 19,
   "id": "6d3f39fa",
   "metadata": {},
   "outputs": [
    {
     "name": "stdout",
     "output_type": "stream",
     "text": [
      "{'name': 'John Doe', 'age': 24}\n",
      "{'name': 'John Doe', 'age': 24}\n"
     ]
    }
   ],
   "source": [
    "student[\"name\"] = \"John Doe\"\n",
    "print(student)\n",
    "print(student_copy)"
   ]
  },
  {
   "cell_type": "code",
   "execution_count": 20,
   "id": "8db4b067",
   "metadata": {},
   "outputs": [
    {
     "name": "stdout",
     "output_type": "stream",
     "text": [
      "{'name': 'John Doe', 'age': 24}\n",
      "{'name': 'John Doe', 'age': 24}\n"
     ]
    }
   ],
   "source": [
    "student_copy_1 = student.copy() ## Creates a shallow copy\n",
    "\n",
    "print(student)\n",
    "print(student_copy_1)"
   ]
  },
  {
   "cell_type": "code",
   "execution_count": 22,
   "id": "2e4c0cb0",
   "metadata": {},
   "outputs": [],
   "source": [
    "student[\"name\"] = \"Susa\""
   ]
  },
  {
   "cell_type": "code",
   "execution_count": null,
   "id": "9317834c",
   "metadata": {},
   "outputs": [
    {
     "name": "stdout",
     "output_type": "stream",
     "text": [
      "{'name': 'Susa', 'age': 24}\n",
      "{'name': 'John Doe', 'age': 24}\n"
     ]
    }
   ],
   "source": [
    "print(student) ## Only this get changed\n",
    "print(student_copy_1) ## This doesn't change as its a shallow copy"
   ]
  },
  {
   "cell_type": "code",
   "execution_count": 24,
   "id": "14d8cfb0",
   "metadata": {},
   "outputs": [
    {
     "name": "stdout",
     "output_type": "stream",
     "text": [
      "name\n",
      "age\n"
     ]
    }
   ],
   "source": [
    "# iterate over dictionaries\n",
    "\n",
    "for keys in student.keys():\n",
    "    print(keys)"
   ]
  },
  {
   "cell_type": "code",
   "execution_count": 25,
   "id": "59342195",
   "metadata": {},
   "outputs": [
    {
     "name": "stdout",
     "output_type": "stream",
     "text": [
      "Susa\n",
      "24\n"
     ]
    }
   ],
   "source": [
    "for values in student.values():\n",
    "    print(values)"
   ]
  },
  {
   "cell_type": "code",
   "execution_count": 26,
   "id": "d8d6d858",
   "metadata": {},
   "outputs": [
    {
     "name": "stdout",
     "output_type": "stream",
     "text": [
      "name:Susa\n",
      "age:24\n"
     ]
    }
   ],
   "source": [
    "# Iterate over key value pairs\n",
    "\n",
    "for key, value in student.items():\n",
    "    print(f'{key}:{value}')"
   ]
  },
  {
   "cell_type": "code",
   "execution_count": 29,
   "id": "8abb3808",
   "metadata": {},
   "outputs": [],
   "source": [
    "# nested dictionaries\n",
    "\n",
    "students = {\n",
    "    \"S1\": {\"name\":\"Peter\", \"Age\": 32},\n",
    "    \"S2\": {\"name\":\"John\", \"Age\": 24}\n",
    "}"
   ]
  },
  {
   "cell_type": "code",
   "execution_count": 30,
   "id": "0b616c56",
   "metadata": {},
   "outputs": [
    {
     "name": "stdout",
     "output_type": "stream",
     "text": [
      "Peter\n",
      "John\n"
     ]
    }
   ],
   "source": [
    "print(students['S1']['name'])\n",
    "print(students['S2']['name'])"
   ]
  },
  {
   "cell_type": "code",
   "execution_count": 35,
   "id": "fffafceb",
   "metadata": {},
   "outputs": [],
   "source": [
    "# Dictionary comprehension\n",
    "\n",
    "squares_even = {x:x**2 for x in range(10) if x%2==0}"
   ]
  },
  {
   "cell_type": "code",
   "execution_count": 38,
   "id": "76d1957b",
   "metadata": {},
   "outputs": [
    {
     "name": "stdout",
     "output_type": "stream",
     "text": [
      "{0: 0, 2: 4, 4: 16, 6: 36, 8: 64}\n"
     ]
    }
   ],
   "source": [
    "print(squares_even)"
   ]
  },
  {
   "cell_type": "code",
   "execution_count": 39,
   "id": "a87820b5",
   "metadata": {},
   "outputs": [
    {
     "name": "stdout",
     "output_type": "stream",
     "text": [
      "{'a': 1, 'b': 3, 'c': 4}\n"
     ]
    }
   ],
   "source": [
    "# Merge 2 dictionaries into 1\n",
    "\n",
    "dict_1 = {\"a\":1, \"b\":2}\n",
    "dict_2 = {\"b\":3, \"c\":4}\n",
    "\n",
    "merged_dict = {**dict_1, **dict_2} # similar to spread operator in JS \"...[list]\" **dict will add any key value pairs in dict to the new merged dictionary\n",
    "\n",
    "print(merged_dict)"
   ]
  },
  {
   "cell_type": "code",
   "execution_count": 1,
   "id": "79082aac",
   "metadata": {},
   "outputs": [],
   "source": [
    "dictionary = {\"nae\":2, \"dex\":4}"
   ]
  },
  {
   "cell_type": "code",
   "execution_count": null,
   "id": "4b885709",
   "metadata": {},
   "outputs": [],
   "source": []
  }
 ],
 "metadata": {
  "kernelspec": {
   "display_name": "Python 3",
   "language": "python",
   "name": "python3"
  },
  "language_info": {
   "codemirror_mode": {
    "name": "ipython",
    "version": 3
   },
   "file_extension": ".py",
   "mimetype": "text/x-python",
   "name": "python",
   "nbconvert_exporter": "python",
   "pygments_lexer": "ipython3",
   "version": "3.12.9"
  }
 },
 "nbformat": 4,
 "nbformat_minor": 5
}
