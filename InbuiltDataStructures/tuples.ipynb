{
 "cells": [
  {
   "cell_type": "code",
   "execution_count": null,
   "id": "74276ce9",
   "metadata": {},
   "outputs": [],
   "source": [
    "# Tuples\n",
    "# ordered and immutable"
   ]
  },
  {
   "cell_type": "code",
   "execution_count": null,
   "id": "73797176",
   "metadata": {},
   "outputs": [],
   "source": []
  },
  {
   "cell_type": "code",
   "execution_count": null,
   "id": "d2d45d3f",
   "metadata": {},
   "outputs": [],
   "source": []
  },
  {
   "cell_type": "code",
   "execution_count": null,
   "id": "7de73ceb",
   "metadata": {},
   "outputs": [],
   "source": []
  }
 ],
 "metadata": {
  "language_info": {
   "name": "python"
  }
 },
 "nbformat": 4,
 "nbformat_minor": 5
}
