{
 "cells": [
  {
   "cell_type": "code",
   "execution_count": 1,
   "id": "9df6590d",
   "metadata": {},
   "outputs": [
    {
     "name": "stdout",
     "output_type": "stream",
     "text": [
      "NameError: name 'b' is not defined\n"
     ]
    }
   ],
   "source": [
    "## try, except blocks\n",
    "\n",
    "try:\n",
    "    a = b\n",
    "except NameError as e:\n",
    "    print(\"NameError:\", e)"
   ]
  },
  {
   "cell_type": "code",
   "execution_count": null,
   "id": "b40b3ec5",
   "metadata": {},
   "outputs": [
    {
     "name": "stdout",
     "output_type": "stream",
     "text": [
      "Caught MyException: name 'b' is not defined\n"
     ]
    }
   ],
   "source": [
    "# Exception class\n",
    "\n",
    "try:\n",
    "    result = 1 / 12\n",
    "    a = b\n",
    "\n",
    "except ZeroDivisionError as e:\n",
    "    print(\"ZeroDivisionError:\", e)\n",
    "except Exception as e:\n",
    "    print(\"Caught Exception:\", e)"
   ]
  },
  {
   "cell_type": "code",
   "execution_count": 7,
   "id": "92b1fa58",
   "metadata": {},
   "outputs": [
    {
     "name": "stdout",
     "output_type": "stream",
     "text": [
      "ZeroDivisionError: division by zero\n",
      "This block always executes, regardless of exceptions\n"
     ]
    }
   ],
   "source": [
    "# try, except, else and finally\n",
    "\n",
    "try:\n",
    "    a = 1 / 0\n",
    "except ZeroDivisionError as e:\n",
    "    print(\"ZeroDivisionError:\", e)\n",
    "else:\n",
    "    print(\"No exception occurred, a =\", a)\n",
    "finally:\n",
    "    print(\"This block always executes, regardless of exceptions\")"
   ]
  },
  {
   "cell_type": "code",
   "execution_count": null,
   "id": "75a718e8",
   "metadata": {},
   "outputs": [],
   "source": []
  }
 ],
 "metadata": {
  "kernelspec": {
   "display_name": "Python 3",
   "language": "python",
   "name": "python3"
  },
  "language_info": {
   "codemirror_mode": {
    "name": "ipython",
    "version": 3
   },
   "file_extension": ".py",
   "mimetype": "text/x-python",
   "name": "python",
   "nbconvert_exporter": "python",
   "pygments_lexer": "ipython3",
   "version": "3.12.9"
  }
 },
 "nbformat": 4,
 "nbformat_minor": 5
}
