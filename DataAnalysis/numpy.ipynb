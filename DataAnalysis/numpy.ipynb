{
 "cells": [
  {
   "cell_type": "markdown",
   "id": "41eb8f50",
   "metadata": {},
   "source": [
    "# Numpy"
   ]
  },
  {
   "cell_type": "markdown",
   "id": "16885aae",
   "metadata": {},
   "source": []
  },
  {
   "cell_type": "code",
   "execution_count": 1,
   "id": "78a582a3",
   "metadata": {},
   "outputs": [
    {
     "name": "stdout",
     "output_type": "stream",
     "text": [
      "Collecting numpy\n",
      "  Downloading numpy-2.2.5-cp312-cp312-win_amd64.whl.metadata (60 kB)\n",
      "Downloading numpy-2.2.5-cp312-cp312-win_amd64.whl (12.6 MB)\n",
      "   ---------------------------------------- 0.0/12.6 MB ? eta -:--:--\n",
      "   --------- ------------------------------ 2.9/12.6 MB 16.8 MB/s eta 0:00:01\n",
      "   -------------------- ------------------- 6.6/12.6 MB 16.8 MB/s eta 0:00:01\n",
      "   ------------------------------- -------- 10.0/12.6 MB 16.8 MB/s eta 0:00:01\n",
      "   ---------------------------------------- 12.6/12.6 MB 16.2 MB/s eta 0:00:00\n",
      "Installing collected packages: numpy\n",
      "Successfully installed numpy-2.2.5\n"
     ]
    }
   ],
   "source": [
    "!pip install numpy"
   ]
  },
  {
   "cell_type": "code",
   "execution_count": 2,
   "id": "943683ae",
   "metadata": {},
   "outputs": [],
   "source": [
    "import numpy as np"
   ]
  },
  {
   "cell_type": "code",
   "execution_count": 4,
   "id": "d97d97fe",
   "metadata": {},
   "outputs": [
    {
     "name": "stdout",
     "output_type": "stream",
     "text": [
      "1D Array:\n",
      "[1 2 3 4 5]\n",
      "<class 'numpy.ndarray'>\n"
     ]
    }
   ],
   "source": [
    "# 1D array\n",
    "\n",
    "array_1d = np.array([1, 2, 3, 4, 5])\n",
    "print(\"1D Array:\")\n",
    "print(array_1d)\n",
    "print(type(array_1d))"
   ]
  },
  {
   "cell_type": "code",
   "execution_count": null,
   "id": "604531d5",
   "metadata": {},
   "outputs": [
    {
     "data": {
      "text/plain": [
       "array([[1, 2, 3, 4, 5]])"
      ]
     },
     "execution_count": 6,
     "metadata": {},
     "output_type": "execute_result"
    }
   ],
   "source": [
    "# turn into 2D array\n",
    "array_2d = array_1d.reshape(1, 5) # reshape to 1 row, 5 columns\n",
    "array_2d # output [[1, 2, 3, 4, 5]] 2d array"
   ]
  },
  {
   "cell_type": "code",
   "execution_count": 7,
   "id": "f3ee37a0",
   "metadata": {},
   "outputs": [
    {
     "data": {
      "text/plain": [
       "numpy.ndarray"
      ]
     },
     "execution_count": 7,
     "metadata": {},
     "output_type": "execute_result"
    }
   ],
   "source": [
    "type(array_2d) # check type of array_2d"
   ]
  },
  {
   "cell_type": "code",
   "execution_count": 9,
   "id": "ac60cef9",
   "metadata": {},
   "outputs": [
    {
     "name": "stdout",
     "output_type": "stream",
     "text": [
      "2D Array:\n",
      "[[1 2 3]\n",
      " [4 5 6]]\n",
      "(2, 3)\n"
     ]
    }
   ],
   "source": [
    "array_2d = np.array([[1, 2, 3], [4, 5, 6]]) # create a 2D array directly\n",
    "\n",
    "print(\"2D Array:\")\n",
    "print(array_2d)\n",
    "print(array_2d.shape) # check shape of array_2d"
   ]
  },
  {
   "cell_type": "code",
   "execution_count": 18,
   "id": "eeda7902",
   "metadata": {},
   "outputs": [
    {
     "name": "stdout",
     "output_type": "stream",
     "text": [
      "2D Array using arange:\n",
      "[[1 2 3]\n",
      " [4 5 6]\n",
      " [7 8 9]]\n",
      "Array is 2 diemensional\n",
      "Array is of 9 size\n",
      "Array is of int64 type\n"
     ]
    }
   ],
   "source": [
    "# inbuilt function to create 2D array\n",
    "\n",
    "array_2d = np.arange(1, 10).reshape(3, 3) # create a 3x3 array with values from 1 to 9\n",
    "print(\"2D Array using arange:\")\n",
    "print(array_2d)\n",
    "print(f\"Array is {array_2d.ndim} diemensional\")\n",
    "print(f\"Array is of {array_2d.size} size\")\n",
    "print(f\"Array is of {array_2d.dtype} type\")"
   ]
  },
  {
   "cell_type": "code",
   "execution_count": 12,
   "id": "d4320928",
   "metadata": {},
   "outputs": [
    {
     "data": {
      "text/plain": [
       "array([[1., 1., 1.],\n",
       "       [1., 1., 1.],\n",
       "       [1., 1., 1.]])"
      ]
     },
     "execution_count": 12,
     "metadata": {},
     "output_type": "execute_result"
    }
   ],
   "source": [
    "np.ones((3, 3)) # create a 3x3 array filled with ones"
   ]
  },
  {
   "cell_type": "code",
   "execution_count": 13,
   "id": "e06a1c16",
   "metadata": {},
   "outputs": [
    {
     "data": {
      "text/plain": [
       "array([[1., 0., 0.],\n",
       "       [0., 1., 0.],\n",
       "       [0., 0., 1.]])"
      ]
     },
     "execution_count": 13,
     "metadata": {},
     "output_type": "execute_result"
    }
   ],
   "source": [
    "np.eye(3) # create a 3x3 identity matrix"
   ]
  },
  {
   "cell_type": "code",
   "execution_count": 14,
   "id": "806183c7",
   "metadata": {},
   "outputs": [
    {
     "data": {
      "text/plain": [
       "array([[0., 0., 0.],\n",
       "       [0., 0., 0.],\n",
       "       [0., 0., 0.]])"
      ]
     },
     "execution_count": 14,
     "metadata": {},
     "output_type": "execute_result"
    }
   ],
   "source": [
    "np.zeros((3, 3)) # create a 3x3 array filled with zeros"
   ]
  },
  {
   "cell_type": "markdown",
   "id": "e9ea3a50",
   "metadata": {},
   "source": [
    "### Numpy vectorized operations"
   ]
  },
  {
   "cell_type": "code",
   "execution_count": 19,
   "id": "5bca051b",
   "metadata": {},
   "outputs": [
    {
     "name": "stdout",
     "output_type": "stream",
     "text": [
      "Element-wise addition:\n",
      "[21 32 43 54 65]\n",
      "Element-wise multiplication:\n",
      "[ 20  60 120 200 300]\n"
     ]
    }
   ],
   "source": [
    "arr1 = np.array([1,2,3,4,5])\n",
    "arr2 = np.array([20,30,40,50,60])\n",
    "\n",
    "# element-wise addition\n",
    "arr3 = arr1 + arr2\n",
    "\n",
    "print(\"Element-wise addition:\")\n",
    "print(arr3) # output [21, 32, 43, 54, 65]\n",
    "\n",
    "# element-wise multiplication\n",
    "arr4 = arr1 * arr2\n",
    "print(\"Element-wise multiplication:\")\n",
    "print(arr4) # output [20, 60, 120, 200, 300]"
   ]
  },
  {
   "cell_type": "code",
   "execution_count": 20,
   "id": "77647340",
   "metadata": {},
   "outputs": [
    {
     "name": "stdout",
     "output_type": "stream",
     "text": [
      "Square root of each element:\n",
      "[1.         1.41421356 1.73205081 2.         2.23606798]\n",
      "Exponential of each element:\n",
      "[  2.71828183   7.3890561   20.08553692  54.59815003 148.4131591 ]\n",
      "Logarithm of each element:\n",
      "[0.         0.69314718 1.09861229 1.38629436 1.60943791]\n"
     ]
    }
   ],
   "source": [
    "# Unviersal functions\n",
    "\n",
    "arr5 = np.array([1, 2, 3, 4, 5])\n",
    "\n",
    "print(\"Square root of each element:\")\n",
    "print(np.sqrt(arr5))\n",
    "\n",
    "print(\"Exponential of each element:\")\n",
    "print(np.exp(arr5))\n",
    "\n",
    "print(\"Logarithm of each element:\")\n",
    "print(np.log(arr5))"
   ]
  },
  {
   "cell_type": "code",
   "execution_count": 22,
   "id": "3cfceca5",
   "metadata": {},
   "outputs": [
    {
     "name": "stdout",
     "output_type": "stream",
     "text": [
      "2D Array:\n",
      "[[1 2 3]\n",
      " [4 5 6]\n",
      " [7 8 9]]\n"
     ]
    }
   ],
   "source": [
    "# Array slicing and indexing\n",
    "\n",
    "array2D = np.array([[1, 2, 3], [4, 5, 6], [7, 8, 9]])\n",
    "print(\"2D Array:\")\n",
    "print(array2D)"
   ]
  },
  {
   "cell_type": "code",
   "execution_count": 24,
   "id": "e7f269a0",
   "metadata": {},
   "outputs": [
    {
     "data": {
      "text/plain": [
       "np.int64(3)"
      ]
     },
     "execution_count": 24,
     "metadata": {},
     "output_type": "execute_result"
    }
   ],
   "source": [
    "array2D[0][2]"
   ]
  },
  {
   "cell_type": "code",
   "execution_count": null,
   "id": "aa5b81cb",
   "metadata": {},
   "outputs": [
    {
     "data": {
      "text/plain": [
       "array([[1, 2, 3],\n",
       "       [4, 5, 6]])"
      ]
     },
     "execution_count": 27,
     "metadata": {},
     "output_type": "execute_result"
    }
   ],
   "source": [
    "array2D[0:,1:] # slicing the array to get all rows and columns from 1 to end\n"
   ]
  },
  {
   "cell_type": "code",
   "execution_count": 30,
   "id": "0423f4c1",
   "metadata": {},
   "outputs": [
    {
     "data": {
      "text/plain": [
       "array([[1],\n",
       "       [4]])"
      ]
     },
     "execution_count": 30,
     "metadata": {},
     "output_type": "execute_result"
    }
   ],
   "source": [
    "array2D[0:2,0:1] # slicing the array to get first two rows and first column"
   ]
  },
  {
   "cell_type": "code",
   "execution_count": 32,
   "id": "75955fe1",
   "metadata": {},
   "outputs": [
    {
     "data": {
      "text/plain": [
       "array([[4, 5],\n",
       "       [7, 8]])"
      ]
     },
     "execution_count": 32,
     "metadata": {},
     "output_type": "execute_result"
    }
   ],
   "source": [
    "array2D[1:,0:2]"
   ]
  },
  {
   "cell_type": "code",
   "execution_count": 33,
   "id": "05fac65f",
   "metadata": {},
   "outputs": [
    {
     "name": "stdout",
     "output_type": "stream",
     "text": [
      "Original Data:\n",
      "[4. 5. 6.]\n",
      "[2.44948974 2.44948974 2.44948974]\n"
     ]
    }
   ],
   "source": [
    "# practical example\n",
    "# Normalization of data\n",
    "\n",
    "data = np.array([[1, 2, 3], [4, 5, 6], [7, 8, 9]])\n",
    "\n",
    "print(\"Original Data:\")\n",
    "\n",
    "mean = np.mean(data, axis=0) # mean of each column\n",
    "print(mean)\n",
    "std  = np.std(data, axis=0) # standard deviation of each column\n",
    "print(std)\n"
   ]
  },
  {
   "cell_type": "code",
   "execution_count": 34,
   "id": "ab8321cb",
   "metadata": {},
   "outputs": [
    {
     "name": "stdout",
     "output_type": "stream",
     "text": [
      "[[False False False]\n",
      " [False False  True]\n",
      " [ True  True  True]]\n",
      "[6 7 8 9]\n",
      "30\n"
     ]
    }
   ],
   "source": [
    "# Logical operations\n",
    "\n",
    "data = np.array([[1, 2, 3], [4, 5, 6], [7, 8, 9]])\n",
    "\n",
    "print(data > 5) # check which elements are greater than 5\n",
    "print(data[data > 5]) # get elements greater than 5\n",
    "print(data[data > 5].sum()) # sum of elements greater than 5"
   ]
  },
  {
   "cell_type": "code",
   "execution_count": null,
   "id": "b4451082",
   "metadata": {},
   "outputs": [],
   "source": []
  }
 ],
 "metadata": {
  "kernelspec": {
   "display_name": "Python 3",
   "language": "python",
   "name": "python3"
  },
  "language_info": {
   "codemirror_mode": {
    "name": "ipython",
    "version": 3
   },
   "file_extension": ".py",
   "mimetype": "text/x-python",
   "name": "python",
   "nbconvert_exporter": "python",
   "pygments_lexer": "ipython3",
   "version": "3.12.9"
  }
 },
 "nbformat": 4,
 "nbformat_minor": 5
}
