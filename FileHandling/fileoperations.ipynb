{
 "cells": [
  {
   "cell_type": "code",
   "execution_count": 7,
   "id": "3a61b273",
   "metadata": {},
   "outputs": [
    {
     "name": "stdout",
     "output_type": "stream",
     "text": [
      "Hello World\n",
      "This is a test\n",
      "This is a test\n",
      "This is a test\n"
     ]
    }
   ],
   "source": [
    "# read a whole file\n",
    "\n",
    "with open('test.txt', 'r') as f:\n",
    "    # read the whole file at once\n",
    "    for line in f:\n",
    "        print(line.strip()) "
   ]
  },
  {
   "cell_type": "code",
   "execution_count": 6,
   "id": "e7e153fa",
   "metadata": {},
   "outputs": [],
   "source": [
    "# write to a file\n",
    "\n",
    "with open('test.txt', 'w') as f: # open in w to overwrite the file\n",
    "    f.write('Hello World\\n')\n",
    "    f.write('This is a test\\n')\n",
    "    \n",
    "# without overwriting the file\n",
    "\n",
    "with open('test.txt', 'a') as f: # open in a to append to the file\n",
    "    f.write('This is a test\\n')\n",
    "    f.write('This is a test\\n')"
   ]
  },
  {
   "cell_type": "code",
   "execution_count": 8,
   "id": "4b0fc4f2",
   "metadata": {},
   "outputs": [
    {
     "name": "stdout",
     "output_type": "stream",
     "text": [
      "Hello World\n",
      "This is a test\n"
     ]
    }
   ],
   "source": [
    "# writing and reading a file\n",
    "# w+ mode\n",
    "\n",
    "with open('test.txt', 'w+') as f: # open in w+ to overwrite the file and read it\n",
    "    f.write('Hello World\\n')\n",
    "    f.write('This is a test\\n')\n",
    "    f.seek(0) # move the cursor to the beginning of the file\n",
    "    for line in f:\n",
    "        print(line.strip()) # read the whole file at once\n"
   ]
  },
  {
   "cell_type": "markdown",
   "id": "44b606eb",
   "metadata": {},
   "source": [
    "## File paths"
   ]
  },
  {
   "cell_type": "code",
   "execution_count": 9,
   "id": "1b3655c4",
   "metadata": {},
   "outputs": [
    {
     "name": "stdout",
     "output_type": "stream",
     "text": [
      "[]\n"
     ]
    }
   ],
   "source": [
    "import os\n",
    "\n",
    "os.mkdir('test_dir') # create a directory\n",
    "items = os.listdir('test_dir') # list the items in the directory\n",
    "print(items) # print the items in the directory"
   ]
  },
  {
   "cell_type": "code",
   "execution_count": 10,
   "id": "2ae07b02",
   "metadata": {},
   "outputs": [
    {
     "name": "stdout",
     "output_type": "stream",
     "text": [
      "test_dir\\test.txt\n"
     ]
    }
   ],
   "source": [
    "# joining paths\n",
    "\n",
    "import os\n",
    "import os.path\n",
    "\n",
    "path = os.path.join('test_dir', 'test.txt') # join the path\n",
    "print(path) # print the path"
   ]
  },
  {
   "cell_type": "code",
   "execution_count": null,
   "id": "885358a5",
   "metadata": {},
   "outputs": [],
   "source": []
  }
 ],
 "metadata": {
  "kernelspec": {
   "display_name": "Python 3",
   "language": "python",
   "name": "python3"
  },
  "language_info": {
   "codemirror_mode": {
    "name": "ipython",
    "version": 3
   },
   "file_extension": ".py",
   "mimetype": "text/x-python",
   "name": "python",
   "nbconvert_exporter": "python",
   "pygments_lexer": "ipython3",
   "version": "3.12.9"
  }
 },
 "nbformat": 4,
 "nbformat_minor": 5
}
