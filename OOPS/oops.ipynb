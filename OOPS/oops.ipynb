{
 "cells": [
  {
   "cell_type": "code",
   "execution_count": 2,
   "id": "7ac1a7ff",
   "metadata": {},
   "outputs": [],
   "source": [
    "# a class is a blueprint for creating objects\n",
    "\n",
    "class Dog:\n",
    "    # class attribute\n",
    "    species = \"Canis familiaris\"\n",
    "\n",
    "    # instance attributes\n",
    "    def __init__(self, name, age):\n",
    "        self.name = name\n",
    "        self.age = age\n",
    "\n",
    "    # instance method\n",
    "    def description(self):\n",
    "        return f\"{self.name} is {self.age} years old.\"\n",
    "\n",
    "    # instance method\n",
    "    def speak(self, sound):\n",
    "        return f\"{self.name} says {sound}\""
   ]
  },
  {
   "cell_type": "code",
   "execution_count": 4,
   "id": "7c2015c0",
   "metadata": {},
   "outputs": [
    {
     "name": "stdout",
     "output_type": "stream",
     "text": [
      "Poodle is 3 years old.\n",
      "Bulldog says Woof\n"
     ]
    }
   ],
   "source": [
    "poodle = Dog(\"Poodle\", 3)\n",
    "bulldog = Dog(\"Bulldog\", 5)\n",
    "print(poodle.description())\n",
    "\n",
    "print(bulldog.speak(\"Woof\"))"
   ]
  },
  {
   "cell_type": "markdown",
   "id": "a8755b02",
   "metadata": {},
   "source": [
    "# Inhertiance"
   ]
  },
  {
   "cell_type": "code",
   "execution_count": null,
   "id": "176860d6",
   "metadata": {},
   "outputs": [],
   "source": [
    "# INHERITANCE\n",
    "# allows a class to inherit attributes and methods from another class\n",
    "class Car:\n",
    "    def __init__(self, make, model):\n",
    "        self.make = make\n",
    "        self.model = model\n",
    "\n",
    "    def description(self):\n",
    "        return f\"{self.make} {self.model}\""
   ]
  },
  {
   "cell_type": "code",
   "execution_count": 6,
   "id": "2e855d7a",
   "metadata": {},
   "outputs": [],
   "source": [
    "# Inheriting from Car class\n",
    "\n",
    "class ElectricCar(Car):\n",
    "    def __init__(self, make, model, battery_size=75):\n",
    "        super().__init__(make, model)\n",
    "        self.battery_size = battery_size\n",
    "\n",
    "    def description(self):\n",
    "        return f\"{self.make} {self.model} with a {self.battery_size}-kWh battery\""
   ]
  },
  {
   "cell_type": "code",
   "execution_count": 7,
   "id": "01d9bd85",
   "metadata": {},
   "outputs": [
    {
     "name": "stdout",
     "output_type": "stream",
     "text": [
      "Audi A4\n",
      "Tesla Model S with a 100-kWh battery\n"
     ]
    }
   ],
   "source": [
    "audi = Car(\"Audi\", \"A4\")\n",
    "tesla = ElectricCar(\"Tesla\", \"Model S\", 100)\n",
    "print(audi.description())\n",
    "print(tesla.description())"
   ]
  },
  {
   "cell_type": "code",
   "execution_count": null,
   "id": "f163debd",
   "metadata": {},
   "outputs": [
    {
     "name": "stdout",
     "output_type": "stream",
     "text": [
      "This vehicle has 4 wheels.\n",
      "This truck has 6 wheels and a capacity of 10 tons.\n",
      "This electric truck has 8 wheels, a capacity of 15 tons, and a 200-kWh battery.\n"
     ]
    }
   ],
   "source": [
    "# multiple inheritance along with method overriding\n",
    "# allows a class to inherit from multiple classes\n",
    "\n",
    "class Vehicle:\n",
    "    def __init__(self, wheels):\n",
    "        self.wheels = wheels\n",
    "\n",
    "    def description(self):\n",
    "        return f\"This vehicle has {self.wheels} wheels.\"\n",
    "    \n",
    "class Truck(Vehicle):\n",
    "    def __init__(self, wheels, capacity):\n",
    "        super().__init__(wheels)\n",
    "        self.capacity = capacity\n",
    "\n",
    "    def description(self):\n",
    "        return f\"This truck has {self.wheels} wheels and a capacity of {self.capacity} tons.\"\n",
    "    \n",
    "class ElectricTruck(Truck):\n",
    "    def __init__(self, wheels, capacity, battery_size):\n",
    "        super().__init__(wheels, capacity)\n",
    "        self.battery_size = battery_size\n",
    "\n",
    "    def description(self):\n",
    "        return f\"This electric truck has {self.wheels} wheels, a capacity of {self.capacity} tons, and a {self.battery_size}-kWh battery.\"\n",
    "\n",
    "# Creating instances of the classes\n",
    "vehicle = Vehicle(4)\n",
    "truck = Truck(6, 10)\n",
    "electric_truck = ElectricTruck(8, 15, 200)\n",
    "\n",
    "print(vehicle.description())\n",
    "print(truck.description())\n",
    "print(electric_truck.description())"
   ]
  },
  {
   "cell_type": "markdown",
   "id": "f816dd85",
   "metadata": {},
   "source": [
    "# Polymorphism"
   ]
  },
  {
   "cell_type": "code",
   "execution_count": null,
   "id": "8baf86c5",
   "metadata": {},
   "outputs": [
    {
     "name": "stdout",
     "output_type": "stream",
     "text": [
      "Meow\n",
      "Woof\n"
     ]
    }
   ],
   "source": [
    "# polymorphism\n",
    "# polymoprhism can be achieved by method overriding and interfaces\n",
    "\n",
    "# method overriding is when a subclass provides a specific implementation of a method that is already defined in its superclass\n",
    "class Animal:\n",
    "    def speak(self):\n",
    "        raise NotImplementedError(\"Subclasses must implement this method\")\n",
    "\n",
    "\n",
    "class Cat(Animal):\n",
    "    def speak(self):\n",
    "        return \"Meow\"\n",
    "\n",
    "\n",
    "class Dog(Animal):\n",
    "    def speak(self):\n",
    "        return \"Woof\"\n",
    "    \n",
    "\n",
    "cat = Cat()\n",
    "dog = Dog()\n",
    "\n",
    "print(cat.speak())  # Output: Meow\n",
    "print(dog.speak())  # Output: Woof\n",
    "# here polymorphism is achieved through method overriding, as both Cat and Dog classes implement the speak method in their own way\n",
    "\n"
   ]
  },
  {
   "cell_type": "code",
   "execution_count": 5,
   "id": "044642ec",
   "metadata": {},
   "outputs": [],
   "source": [
    "# polymorphism through functions and methods\n",
    "\n",
    "class Shape:\n",
    "    def area(self):\n",
    "        return \"the area of the figure\"\n",
    "    \n",
    "    \n",
    "class Circle(Shape):\n",
    "    def __init__(self, radius):\n",
    "        self.radius = radius\n",
    "        \n",
    "    def area(self):\n",
    "        return 3.14 * self.radius * self.radius\n",
    "    \n",
    "class Rectangle(Shape):\n",
    "    def __init__(self, length, width):\n",
    "        self.length = length\n",
    "        self.width = width\n",
    "        \n",
    "    def area(self):\n",
    "        return self.length * self.width"
   ]
  },
  {
   "cell_type": "code",
   "execution_count": 6,
   "id": "e20bc107",
   "metadata": {},
   "outputs": [
    {
     "name": "stdout",
     "output_type": "stream",
     "text": [
      "The area of the shape is: 78.5\n",
      "The area of the shape is: 24\n"
     ]
    }
   ],
   "source": [
    "# function that demonstrates polymorphism\n",
    "\n",
    "def print_area(shape):\n",
    "    print(f\"The area of the shape is: {shape.area()}\")\n",
    "    \n",
    "# creating instances of the classes\n",
    "circle = Circle(5)\n",
    "rectangle = Rectangle(4, 6)\n",
    "\n",
    "# calling the function with different shapes\n",
    "print_area(circle)  # Output: The area of the shape is: 78.5\n",
    "print_area(rectangle)  # Output: The area of the shape is: 24"
   ]
  },
  {
   "cell_type": "code",
   "execution_count": 8,
   "id": "d09495ab",
   "metadata": {},
   "outputs": [],
   "source": [
    "# interfaces or abstract classes\n",
    "# an interface is a contract that defines a set of methods that a class must implement\n",
    "# in python, we can use abstract base classes (ABCs) to create interfaces\n",
    "# ABCs are used to define common methods for a group of related classes\n",
    "#  they can also be used to enforce a contract for subclasses to follow\n",
    "\n",
    "from abc import ABC, abstractmethod\n",
    "\n",
    "class Shape(ABC):\n",
    "    # This is an abstract class that defines the interface for all shapes\n",
    "    @abstractmethod\n",
    "    def area_of_shape(self):\n",
    "        pass\n",
    "    \n",
    "    @abstractmethod\n",
    "    def perimeter_of_shape(self):\n",
    "        pass\n",
    "    \n",
    "class Circle(Shape):\n",
    "    def __init__(self, radius):\n",
    "        self.radius = radius\n",
    "    \n",
    "    # implementing the abstract methods\n",
    "    # if we don't implement these methods, we will get an error\n",
    "    # when we try to create an instance of the Circle class    \n",
    "    def area_of_shape(self):\n",
    "        return 3.14 * self.radius * self.radius\n",
    "    \n",
    "    #def perimeter_of_shape(self):\n",
    "    #   return 2 * 3.14 * self.radius"
   ]
  },
  {
   "cell_type": "code",
   "execution_count": 9,
   "id": "c7533289",
   "metadata": {},
   "outputs": [
    {
     "ename": "TypeError",
     "evalue": "Can't instantiate abstract class Circle without an implementation for abstract method 'perimeter_of_shape'",
     "output_type": "error",
     "traceback": [
      "\u001b[31m---------------------------------------------------------------------------\u001b[39m",
      "\u001b[31mTypeError\u001b[39m                                 Traceback (most recent call last)",
      "\u001b[36mCell\u001b[39m\u001b[36m \u001b[39m\u001b[32mIn[9]\u001b[39m\u001b[32m, line 1\u001b[39m\n\u001b[32m----> \u001b[39m\u001b[32m1\u001b[39m circle = \u001b[43mCircle\u001b[49m\u001b[43m(\u001b[49m\u001b[32;43m5\u001b[39;49m\u001b[43m)\u001b[49m\n",
      "\u001b[31mTypeError\u001b[39m: Can't instantiate abstract class Circle without an implementation for abstract method 'perimeter_of_shape'"
     ]
    }
   ],
   "source": [
    "circle = Circle(5)"
   ]
  },
  {
   "cell_type": "code",
   "execution_count": 10,
   "id": "87c83540",
   "metadata": {},
   "outputs": [],
   "source": [
    "class Circle(Shape):\n",
    "    def __init__(self, radius):\n",
    "        self.radius = radius\n",
    "    \n",
    "    # implementing the abstract methods  \n",
    "    def area_of_shape(self):\n",
    "        return 3.14 * self.radius * self.radius\n",
    "    \n",
    "    def perimeter_of_shape(self):\n",
    "       return 2 * 3.14 * self.radius"
   ]
  },
  {
   "cell_type": "code",
   "execution_count": 11,
   "id": "c9315c16",
   "metadata": {},
   "outputs": [
    {
     "name": "stdout",
     "output_type": "stream",
     "text": [
      "78.5\n"
     ]
    }
   ],
   "source": [
    "circle = Circle(5)\n",
    "print(circle.area_of_shape())  # Output: 78.5"
   ]
  },
  {
   "cell_type": "markdown",
   "id": "701a37fb",
   "metadata": {},
   "source": [
    "# Encapsulation and Abstraction"
   ]
  },
  {
   "cell_type": "code",
   "execution_count": 16,
   "id": "4949059b",
   "metadata": {},
   "outputs": [
    {
     "name": "stdout",
     "output_type": "stream",
     "text": [
      "John\n",
      "123-45-6789\n"
     ]
    }
   ],
   "source": [
    "# Encapsulation\n",
    "# Encapsulation is the bundling of data(variables) and methods(functions) that operate on that data within a single unit, or class.\n",
    "\n",
    "# It restricts direct access to some of an object's components and can prevent the accidental modification of data.\n",
    "# It is achieved by using private and public access modifiers.\n",
    "\n",
    "# Public, protected, and private access modifiers:\n",
    "\n",
    "class Person:\n",
    "    def __init__(self, name, age):\n",
    "        self.name = name  # public attribute\n",
    "        self._age = age   # protected attribute can only be accessed within the class and its subclasses\n",
    "        self.__ssn = \"123-45-6789\"  # private attribute (name mangling)\n",
    "\n",
    "    def get_ssn(self):\n",
    "        return self.__ssn  # public method to access private attribute\n",
    "    \n",
    "person = Person(\"John\", 30)\n",
    "print(person.name)  # Output: John (public attribute)\n",
    "print(person.get_ssn())  # Output: 123-45-6789 (accessing private attribute through a public method)"
   ]
  },
  {
   "cell_type": "code",
   "execution_count": 14,
   "id": "3124a427",
   "metadata": {},
   "outputs": [
    {
     "ename": "AttributeError",
     "evalue": "'Person' object has no attribute '__ssn'",
     "output_type": "error",
     "traceback": [
      "\u001b[31m---------------------------------------------------------------------------\u001b[39m",
      "\u001b[31mAttributeError\u001b[39m                            Traceback (most recent call last)",
      "\u001b[36mCell\u001b[39m\u001b[36m \u001b[39m\u001b[32mIn[14]\u001b[39m\u001b[32m, line 2\u001b[39m\n\u001b[32m      1\u001b[39m \u001b[38;5;66;03m# The private attribute __ssn cannot be accessed directly\u001b[39;00m\n\u001b[32m----> \u001b[39m\u001b[32m2\u001b[39m \u001b[38;5;28mprint\u001b[39m(\u001b[43mperson\u001b[49m\u001b[43m.\u001b[49m\u001b[43m__ssn\u001b[49m)  \u001b[38;5;66;03m# This will raise an AttributeError\u001b[39;00m\n",
      "\u001b[31mAttributeError\u001b[39m: 'Person' object has no attribute '__ssn'"
     ]
    }
   ],
   "source": [
    "# The private attribute __ssn cannot be accessed directly\n",
    "print(person.__ssn)  # This will raise an AttributeError"
   ]
  },
  {
   "cell_type": "code",
   "execution_count": 20,
   "id": "61e2ad43",
   "metadata": {},
   "outputs": [
    {
     "name": "stdout",
     "output_type": "stream",
     "text": [
      "1000\n",
      "2000\n"
     ]
    }
   ],
   "source": [
    "# Encapsulation with getter and setter methods\n",
    "# why getter and setter methods are used?\n",
    "# They are used to control access to private attributes and provide a way to validate data before setting it.\n",
    "# This is useful for maintaining data integrity and encapsulation.\n",
    "class BankAccount:\n",
    "    def __init__(self, balance):\n",
    "        self.__balance = balance  # private attribute\n",
    "\n",
    "    def get_balance(self):\n",
    "        return self.__balance  # getter method\n",
    "\n",
    "    def set_balance(self, amount):\n",
    "        if amount >= 0:\n",
    "            self.__balance = amount  # setter method\n",
    "        else:\n",
    "            print(\"Invalid amount. Balance cannot be negative.\")\n",
    "            \n",
    "\n",
    "account = BankAccount(1000)\n",
    "print(account.get_balance())  # Output: 1000\n",
    "account.set_balance(2000)  # Setting a new balance\n",
    "print(account.get_balance())  # Output: 2000"
   ]
  },
  {
   "cell_type": "code",
   "execution_count": 21,
   "id": "8d1d2411",
   "metadata": {},
   "outputs": [
    {
     "name": "stdout",
     "output_type": "stream",
     "text": [
      "1000\n",
      "2000\n"
     ]
    }
   ],
   "source": [
    "# In Python, we can use properties to create getter and setter methods in a more elegant way.\n",
    "# Properties allow us to define methods that can be accessed like attributes, providing a clean interface for accessing and modifying private attributes.\n",
    "# Properties are defined using the @property decorator for the getter method and the @<property_name>.setter decorator for the setter method.\n",
    "# This allows us to define custom behavior when getting or setting the value of an attribute.\n",
    "\n",
    "class BankAccount:\n",
    "    def __init__(self, balance):\n",
    "        self.__balance = balance  # private attribute\n",
    "\n",
    "    @property\n",
    "    def balance(self):\n",
    "        return self.__balance  # getter method\n",
    "\n",
    "    @balance.setter\n",
    "    def balance(self, amount):\n",
    "        if amount >= 0:\n",
    "            self.__balance = amount  # setter method\n",
    "        else:\n",
    "            print(\"Invalid amount. Balance cannot be negative.\")\n",
    "    \n",
    "\n",
    "account = BankAccount(1000)\n",
    "print(account.balance)  # Output: 1000\n",
    "account.balance = 2000  # Setting a new balance\n",
    "print(account.balance)  # Output: 2000\n"
   ]
  },
  {
   "cell_type": "code",
   "execution_count": null,
   "id": "0000d0c0",
   "metadata": {},
   "outputs": [
    {
     "name": "stdout",
     "output_type": "stream",
     "text": [
      "Driving the vehicle\n",
      "Car fuel efficiency is 25 km/l\n",
      "Driving the vehicle\n",
      "Truck fuel efficiency is 10 km/l\n"
     ]
    }
   ],
   "source": [
    "# Abstraction\n",
    "# Abstraction is the concept of hiding the complex implementation details and showing only the essential features of the object.\n",
    "\n",
    "from abc import ABC, abstractmethod\n",
    "\n",
    "class Vechile(ABC):\n",
    "    def drive(self):\n",
    "        return \"Driving the vehicle\"\n",
    "    \n",
    "    @abstractmethod\n",
    "    def fuel_efficiency(self):\n",
    "        pass  # Abstract method, must be implemented by subclasses\n",
    "    # how abstraction works here\n",
    "    # The Vechile class is an abstract class that defines the interface for all vehicles.\n",
    "    # It has a concrete method drive() that can be used by all subclasses, and an abstract method fuel_efficiency() that must be implemented by any subclass.   \n",
    "    # The subclasses Car and Truck inherit from the Vechile class and provide their own implementations of the fuel_efficiency() method.\n",
    "    # This allows us to create different types of vehicles with their own specific behaviors while still adhering to the common interface defined by the Vechile class.\n",
    "    \n",
    "class Car(Vechile):\n",
    "    def fuel_efficiency(self):\n",
    "        return \"Car fuel efficiency is 25 km/l\"\n",
    "    \n",
    "class Truck(Vechile):\n",
    "    def fuel_efficiency(self):\n",
    "        return \"Truck fuel efficiency is 10 km/l\"\n",
    "    \n",
    "car = Car()\n",
    "truck = Truck()\n",
    "\n",
    "print(car.drive())  # Output: Driving the vehicle\n",
    "print(car.fuel_efficiency())  # Output: Car fuel efficiency is 25 km/l\n",
    "print(truck.drive())  # Output: Driving the vehicle\n",
    "print(truck.fuel_efficiency())  # Output: Truck fuel efficiency is 10 km/l\n",
    "    \n",
    "    "
   ]
  },
  {
   "cell_type": "markdown",
   "id": "5c29803a",
   "metadata": {},
   "source": [
    "# Magic methods"
   ]
  },
  {
   "cell_type": "code",
   "execution_count": 24,
   "id": "b06aa4c0",
   "metadata": {},
   "outputs": [
    {
     "data": {
      "text/plain": [
       "['__class__',\n",
       " '__delattr__',\n",
       " '__dict__',\n",
       " '__dir__',\n",
       " '__doc__',\n",
       " '__eq__',\n",
       " '__format__',\n",
       " '__ge__',\n",
       " '__getattribute__',\n",
       " '__getstate__',\n",
       " '__gt__',\n",
       " '__hash__',\n",
       " '__init__',\n",
       " '__init_subclass__',\n",
       " '__le__',\n",
       " '__lt__',\n",
       " '__module__',\n",
       " '__ne__',\n",
       " '__new__',\n",
       " '__reduce__',\n",
       " '__reduce_ex__',\n",
       " '__repr__',\n",
       " '__setattr__',\n",
       " '__sizeof__',\n",
       " '__str__',\n",
       " '__subclasshook__',\n",
       " '__weakref__']"
      ]
     },
     "execution_count": 24,
     "metadata": {},
     "output_type": "execute_result"
    }
   ],
   "source": [
    "# Magic methods\n",
    "# Magic methods are special methods in Python that start and end with double underscores (__) and are used to define the behavior of objects in certain situations.\n",
    "# They allow us to customize the behavior of built-in operations for our classes, such as addition, subtraction, string representation, and more.\n",
    "\n",
    "# Eg: __init__, __str__, __repr__, __add__, __len__, etc.\n",
    "\n",
    "class Point:\n",
    "    pass\n",
    "\n",
    "point = Point()\n",
    "\n",
    "dir(point)\n",
    "# The dir() function returns a list of the attributes and methods of the object."
   ]
  },
  {
   "cell_type": "code",
   "execution_count": null,
   "id": "a4aa8525",
   "metadata": {},
   "outputs": [],
   "source": [
    "# Basic magic methods\n",
    "\n",
    "class Point:\n",
    "    def __init__(self, x, y):\n",
    "        self.x = x\n",
    "        self.y = y\n",
    "\n",
    "    def __str__(self): # String representation of the object\n",
    "        return f\"Point({self.x}, {self.y})\"\n",
    "\n",
    "    def __add__(self, other): # Overloading the + operator\n",
    "        # operator overloading\n",
    "        # allows us to define custom behavior for operators like +, -, *, /, etc.\n",
    "        # when we use the + operator on two Point objects, it will call this method\n",
    "        return Point(self.x + other.x, self.y + other.y)\n",
    "\n",
    "    def __len__(self): # Length of the object (number of coordinates)\n",
    "        return 2  # A point has two coordinates (x and y)\n"
   ]
  },
  {
   "cell_type": "code",
   "execution_count": 30,
   "id": "5c3a9b16",
   "metadata": {},
   "outputs": [
    {
     "name": "stdout",
     "output_type": "stream",
     "text": [
      "Point(10, 21)\n",
      "Point(31, 324)\n",
      "Point(41, 345)\n"
     ]
    }
   ],
   "source": [
    "point_1 = Point(10, 21)\n",
    "point_2 = Point(31, 324)\n",
    "\n",
    "print(point_1)  # Output: Point(2, 3)\n",
    "print(point_2)  # Output: Point(4, 5)\n",
    "\n",
    "point_3 = point_1 + point_2  # Using the overloaded + operator\n",
    "print(point_3)  # Output: Point(6, 8)\n"
   ]
  },
  {
   "cell_type": "code",
   "execution_count": 31,
   "id": "8c86271c",
   "metadata": {},
   "outputs": [],
   "source": [
    "# Overloading operators for complex numbers\n",
    "\n",
    "class ComplexNumber:\n",
    "    def __init__(self, real, imaginary):\n",
    "        self.real = real\n",
    "        self.imaginary = imaginary\n",
    "\n",
    "    def __str__(self):  # String representation of the complex number\n",
    "        return f\"{self.real} + {self.imaginary}i\"\n",
    "\n",
    "    def __add__(self, other):  # Overloading the + operator for complex numbers\n",
    "        return ComplexNumber(self.real + other.real, self.imaginary + other.imaginary)\n",
    "\n",
    "    def __sub__(self, other):  # Overloading the - operator for complex numbers\n",
    "        return ComplexNumber(self.real - other.real, self.imaginary - other.imaginary)\n",
    "\n",
    "    def __mul__(self, other):  # Overloading the * operator for complex numbers\n",
    "        return ComplexNumber(self.real * other.real - self.imaginary * other.imaginary,\n",
    "                             self.real * other.imaginary + self.imaginary * other.real)"
   ]
  },
  {
   "cell_type": "code",
   "execution_count": 32,
   "id": "570320bf",
   "metadata": {},
   "outputs": [
    {
     "name": "stdout",
     "output_type": "stream",
     "text": [
      "2 + 3i\n",
      "4 + 5i\n",
      "6 + 8i\n",
      "-2 + -2i\n"
     ]
    }
   ],
   "source": [
    "c1= ComplexNumber(2, 3)\n",
    "c2= ComplexNumber(4, 5)\n",
    "\n",
    "print(c1)  # Output: 2 + 3i\n",
    "print(c2)  # Output: 4 + 5i\n",
    "\n",
    "c3 = c1 + c2  # Using the overloaded + operator\n",
    "print(c3)  # Output: 6 + 8i\n",
    "\n",
    "c4 = c1 - c2  # Using the overloaded - operator\n",
    "print(c4)  # Output: -2 - 2i\n"
   ]
  },
  {
   "cell_type": "code",
   "execution_count": null,
   "id": "bd85a20b",
   "metadata": {},
   "outputs": [],
   "source": []
  }
 ],
 "metadata": {
  "kernelspec": {
   "display_name": "Python 3",
   "language": "python",
   "name": "python3"
  },
  "language_info": {
   "codemirror_mode": {
    "name": "ipython",
    "version": 3
   },
   "file_extension": ".py",
   "mimetype": "text/x-python",
   "name": "python",
   "nbconvert_exporter": "python",
   "pygments_lexer": "ipython3",
   "version": "3.12.9"
  }
 },
 "nbformat": 4,
 "nbformat_minor": 5
}
