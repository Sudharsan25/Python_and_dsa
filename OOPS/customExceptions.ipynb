{
 "cells": [
  {
   "cell_type": "markdown",
   "id": "29a96f4c",
   "metadata": {},
   "source": [
    "# Custom Exception"
   ]
  },
  {
   "cell_type": "code",
   "execution_count": 3,
   "id": "58f60f19",
   "metadata": {},
   "outputs": [],
   "source": [
    "# custom exception\n",
    "\n",
    "class CustomError(Exception):\n",
    "    \"\"\"Base class for custom exceptions in this module.\"\"\"\n",
    "    def __init__(self, message):\n",
    "        super().__init__(message)\n",
    "        self.message = message\n",
    "        self.code = 500\n",
    "        \n",
    "    def __str__(self):\n",
    "        return f\"CustomError: {self.message} (code: {self.code})\"\n",
    "    \n",
    "class dobException(CustomError):\n",
    "    pass"
   ]
  },
  {
   "cell_type": "code",
   "execution_count": 5,
   "id": "f88586d0",
   "metadata": {},
   "outputs": [
    {
     "name": "stdout",
     "output_type": "stream",
     "text": [
      "CustomError: You are not an adult yet! (code: 500)\n"
     ]
    }
   ],
   "source": [
    "year = int(input(\"Enter your birth year: \"))\n",
    "\n",
    "try:\n",
    "    age = 2025 - year\n",
    "    if age < 0:\n",
    "        raise dobException(\"You are not born yet!\")\n",
    "    elif age > 18:  \n",
    "        print(\"You are an adult.\")\n",
    "\n",
    "    elif age == 18:\n",
    "        print(\"You are 18 years old.\")\n",
    "        \n",
    "    else:\n",
    "        raise dobException(\"You are not an adult yet!\")\n",
    "\n",
    "except dobException as e:\n",
    "    print(e)   \n",
    "    \n",
    "\n"
   ]
  },
  {
   "cell_type": "code",
   "execution_count": 6,
   "id": "d1ae88c9",
   "metadata": {},
   "outputs": [],
   "source": [
    "# This code defines a custom exception class `dobException` that inherits from a base class `CustomError`.\n",
    "# The script prompts the user for their birth year and calculates their age.\n",
    "# Depending on the age, it raises the `dobException` with appropriate messages if the user is not an adult or not born yet."
   ]
  },
  {
   "cell_type": "code",
   "execution_count": null,
   "id": "47ebf74a",
   "metadata": {},
   "outputs": [],
   "source": []
  }
 ],
 "metadata": {
  "kernelspec": {
   "display_name": "Python 3",
   "language": "python",
   "name": "python3"
  },
  "language_info": {
   "codemirror_mode": {
    "name": "ipython",
    "version": 3
   },
   "file_extension": ".py",
   "mimetype": "text/x-python",
   "name": "python",
   "nbconvert_exporter": "python",
   "pygments_lexer": "ipython3",
   "version": "3.12.9"
  }
 },
 "nbformat": 4,
 "nbformat_minor": 5
}
